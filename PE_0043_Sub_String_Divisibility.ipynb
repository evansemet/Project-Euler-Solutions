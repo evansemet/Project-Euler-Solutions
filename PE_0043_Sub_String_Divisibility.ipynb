{
 "cells": [
  {
   "cell_type": "markdown",
   "metadata": {},
   "source": [
    "**Sub-string Divisibility**\n",
    "\n",
    "**Problem 43**\n",
    "\n",
    "The number, 1406357289, is a 0 to 9 pandigital number because it is made up of each of the digits 0 to 9 in some order, but it also has a rather interesting sub-string divisibility property.\n",
    "\n",
    "Let d1 be the 1st digit, d2 be the 2nd digit, and so on. In this way, we note the following:\n",
    "\n",
    "d2d3d4=406 is divisible by 2\n",
    "\n",
    "d3d4d5=063 is divisible by 3\n",
    "\n",
    "d4d5d6=635 is divisible by 5\n",
    "\n",
    "d5d6d7=357 is divisible by 7\n",
    "\n",
    "d6d7d8=572 is divisible by 11\n",
    "\n",
    "d7d8d9=728 is divisible by 13\n",
    "\n",
    "d8d9d10=289 is divisible by 17\n",
    "\n",
    "Find the sum of all 0 to 9 pandigital numbers with this property."
   ]
  },
  {
   "cell_type": "code",
   "execution_count": 1,
   "metadata": {},
   "outputs": [],
   "source": [
    "import itertools"
   ]
  },
  {
   "cell_type": "code",
   "execution_count": 4,
   "metadata": {},
   "outputs": [
    {
     "data": {
      "text/plain": [
       "16695334890"
      ]
     },
     "execution_count": 4,
     "metadata": {},
     "output_type": "execute_result"
    }
   ],
   "source": [
    "perms = [''.join(str(x) for x in p) for p in itertools.permutations(range(10)) if p[0] != 0 and p[3] % 2 == 0]\n",
    "sum([int(p) for p in perms if int(p[2:5])%3==0 and int(p[3:6])%5==0 and int(p[4:7])%7==0 and int(p[5:8])%11==0 and int(p[6:9])%13==0 and int(p[-3:])%17==0])"
   ]
  }
 ],
 "metadata": {
  "kernelspec": {
   "display_name": "Python 3.11.1 64-bit",
   "language": "python",
   "name": "python3"
  },
  "language_info": {
   "codemirror_mode": {
    "name": "ipython",
    "version": 3
   },
   "file_extension": ".py",
   "mimetype": "text/x-python",
   "name": "python",
   "nbconvert_exporter": "python",
   "pygments_lexer": "ipython3",
   "version": "3.11.1"
  },
  "orig_nbformat": 4,
  "vscode": {
   "interpreter": {
    "hash": "aee8b7b246df8f9039afb4144a1f6fd8d2ca17a180786b69acc140d282b71a49"
   }
  }
 },
 "nbformat": 4,
 "nbformat_minor": 2
}
