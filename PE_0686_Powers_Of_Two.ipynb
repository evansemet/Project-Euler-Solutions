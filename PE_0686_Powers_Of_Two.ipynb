{
 "cells": [
  {
   "cell_type": "markdown",
   "metadata": {},
   "source": [
    "**Powers of Two**\n",
    "\n",
    "Problem 686\n",
    "\n",
    "<p>$2^7=128$ is the first power of two whose leading digits are \"12\".<br />\n",
    "The next power of two whose leading digits are \"12\" is $2^{80}$.</p>\n",
    "\n",
    "<p>Define $p(L, n)$ to be the $n$th-smallest value of $j$ such that the base 10 representation of $2^j$ begins with the digits of $L$.<br />\n",
    "So $p(12, 1) = 7$ and $p(12, 2) = 80$.</p>\n",
    "\n",
    "<p>You are also given that $p(123, 45) = 12710$.</p>\n",
    "\n",
    "<p>Find $p(123, 678910)$.</p>"
   ]
  },
  {
   "cell_type": "code",
   "execution_count": 4,
   "metadata": {},
   "outputs": [
    {
     "data": {
      "text/plain": [
       "193060223"
      ]
     },
     "execution_count": 4,
     "metadata": {},
     "output_type": "execute_result"
    }
   ],
   "source": [
    "import math\n",
    "\n",
    "lower,higher,constant = math.log(1.23,10),math.log(1.24,10),math.log(2,10)\n",
    "seen,j=0,0\n",
    "while seen < 678910:\n",
    "    j += 1\n",
    "    check = j * constant\n",
    "    if lower < check - math.floor(check) < higher:\n",
    "        seen += 1\n",
    "j"
   ]
  }
 ],
 "metadata": {
  "kernelspec": {
   "display_name": "Python 3.11.1 64-bit",
   "language": "python",
   "name": "python3"
  },
  "language_info": {
   "codemirror_mode": {
    "name": "ipython",
    "version": 3
   },
   "file_extension": ".py",
   "mimetype": "text/x-python",
   "name": "python",
   "nbconvert_exporter": "python",
   "pygments_lexer": "ipython3",
   "version": "3.11.1"
  },
  "orig_nbformat": 4,
  "vscode": {
   "interpreter": {
    "hash": "aee8b7b246df8f9039afb4144a1f6fd8d2ca17a180786b69acc140d282b71a49"
   }
  }
 },
 "nbformat": 4,
 "nbformat_minor": 2
}
