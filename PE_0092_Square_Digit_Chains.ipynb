{
 "cells": [
  {
   "cell_type": "markdown",
   "metadata": {},
   "source": [
    "**Square Digit Chains**\n",
    "\n",
    "**Problem 92**\n",
    "\n",
    "A number chain is created by continuously adding the square of the digits in a number to form a new number until it has been seen before.\n",
    "\n",
    "For example,\n",
    "\n",
    "44 → 32 → 13 → 10 → 1 → 1\n",
    "85 → 89 → 145 → 42 → 20 → 4 → 16 → 37 → 58 → 89\n",
    "\n",
    "Therefore any chain that arrives at 1 or 89 will become stuck in an endless loop. What is most amazing is that EVERY starting number will eventually arrive at 1 or 89.\n",
    "\n",
    "How many starting numbers below ten million will arrive at 89?"
   ]
  },
  {
   "cell_type": "code",
   "execution_count": 14,
   "metadata": {},
   "outputs": [
    {
     "data": {
      "text/plain": [
       "8581146"
      ]
     },
     "execution_count": 14,
     "metadata": {},
     "output_type": "execute_result"
    }
   ],
   "source": [
    "memo = [None] * 10_000_000\n",
    "memo[1] = False\n",
    "memo[89] = True\n",
    "\n",
    "def squareDigit(num):\n",
    "    if memo[num] != None:\n",
    "        return memo[num]\n",
    "    chain = [num]\n",
    "    while True:\n",
    "        tot = sum(int(dig)**2 for dig in str(chain[-1]))\n",
    "        if tot == 1 or memo[tot] == False:\n",
    "            memo[chain[0]] = False\n",
    "            return False\n",
    "        elif tot == 89 or memo[tot] == True:\n",
    "            memo[chain[0]] = True\n",
    "            return True\n",
    "        else:\n",
    "            chain.append(tot)\n",
    "\n",
    "sum([1 for num in range(1, 10_000_000) if squareDigit(num)])"
   ]
  }
 ],
 "metadata": {
  "kernelspec": {
   "display_name": "Python 3.11.1 64-bit",
   "language": "python",
   "name": "python3"
  },
  "language_info": {
   "codemirror_mode": {
    "name": "ipython",
    "version": 3
   },
   "file_extension": ".py",
   "mimetype": "text/x-python",
   "name": "python",
   "nbconvert_exporter": "python",
   "pygments_lexer": "ipython3",
   "version": "3.11.1"
  },
  "orig_nbformat": 4,
  "vscode": {
   "interpreter": {
    "hash": "aee8b7b246df8f9039afb4144a1f6fd8d2ca17a180786b69acc140d282b71a49"
   }
  }
 },
 "nbformat": 4,
 "nbformat_minor": 2
}
