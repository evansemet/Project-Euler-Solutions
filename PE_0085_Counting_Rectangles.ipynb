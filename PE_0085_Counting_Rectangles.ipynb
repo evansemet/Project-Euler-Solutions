{
 "cells": [
  {
   "cell_type": "markdown",
   "metadata": {},
   "source": [
    "**Counting Rectangles**\n",
    "\n",
    "**Problem 85**\n",
    "\n",
    "By counting carefully it can be seen that a rectangular grid measuring 3 by 2 contains eighteen rectangles:\n",
    "\n",
    "\n",
    "Although there exists no rectangular grid that contains exactly two million rectangles, find the area of the grid with the nearest solution."
   ]
  },
  {
   "cell_type": "code",
   "execution_count": 7,
   "metadata": {},
   "outputs": [],
   "source": [
    "def f(r,c):\n",
    "    return r*c*(r+1)*(c+1)/4"
   ]
  },
  {
   "cell_type": "code",
   "execution_count": 8,
   "metadata": {},
   "outputs": [
    {
     "data": {
      "text/plain": [
       "2772"
      ]
     },
     "execution_count": 8,
     "metadata": {},
     "output_type": "execute_result"
    }
   ],
   "source": [
    "sm = float('inf')\n",
    "w,h = 0,0\n",
    "for r in range(5_000):\n",
    "    for c in range(r, 5_000):\n",
    "        num = f(r,c)\n",
    "        dif = abs(2_000_000-num)\n",
    "        if dif < sm:\n",
    "            sm = dif\n",
    "            w,h = r,c\n",
    "w*h"
   ]
  }
 ],
 "metadata": {
  "kernelspec": {
   "display_name": "Python 3.11.1 64-bit",
   "language": "python",
   "name": "python3"
  },
  "language_info": {
   "codemirror_mode": {
    "name": "ipython",
    "version": 3
   },
   "file_extension": ".py",
   "mimetype": "text/x-python",
   "name": "python",
   "nbconvert_exporter": "python",
   "pygments_lexer": "ipython3",
   "version": "3.11.1"
  },
  "orig_nbformat": 4,
  "vscode": {
   "interpreter": {
    "hash": "aee8b7b246df8f9039afb4144a1f6fd8d2ca17a180786b69acc140d282b71a49"
   }
  }
 },
 "nbformat": 4,
 "nbformat_minor": 2
}
