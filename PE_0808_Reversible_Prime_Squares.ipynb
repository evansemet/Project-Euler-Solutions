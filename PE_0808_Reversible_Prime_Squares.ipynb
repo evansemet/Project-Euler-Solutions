{
 "cells": [
  {
   "cell_type": "markdown",
   "metadata": {},
   "source": [
    "**Reversible Prime Squares**\n",
    "\n",
    "**Problem 808**\n",
    "\n",
    "Both 169 and 961 are the square of a prime. 169 is the reverse of 961.\n",
    "\n",
    "We call a number a reversible prime square if:\n",
    "\n",
    "1. It is not a palindrome, and\n",
    "\n",
    "2. It is the square of a prime, and\n",
    "\n",
    "3. Its reverse is also the square of a prime.\n",
    "\n",
    "169 and 961 are not palindromes, so both are reversible prime squares.\n",
    "\n",
    "Find the sum of the first 50 reversible prime squares."
   ]
  },
  {
   "cell_type": "code",
   "execution_count": 1,
   "metadata": {},
   "outputs": [],
   "source": [
    "import sympy"
   ]
  },
  {
   "cell_type": "code",
   "execution_count": 8,
   "metadata": {},
   "outputs": [],
   "source": [
    "def isPalindrome(num):\n",
    "    return str(num) == str(num)[::-1]\n",
    "\n",
    "def reverseNumber(num):\n",
    "    return int(str(num)[::-1])"
   ]
  },
  {
   "cell_type": "code",
   "execution_count": 29,
   "metadata": {},
   "outputs": [
    {
     "name": "stdout",
     "output_type": "stream",
     "text": [
      "3807504276997394\n"
     ]
    }
   ],
   "source": [
    "primes = list(sympy.sieve.primerange(10**8))\n",
    "primeSquares = [p**2 for p in primes]\n",
    "\n",
    "seen, tot = 0, 0\n",
    "\n",
    "for p in primes:\n",
    "    if seen==50:\n",
    "        print(tot)\n",
    "        break\n",
    "    sq = p**2\n",
    "    if not isPalindrome(sq) and sympy.isprime(int(reverseNumber(sq)**0.5)) and int(reverseNumber(sq)**0.5)==reverseNumber(sq)**0.5:\n",
    "        seen += 1\n",
    "        tot += sq"
   ]
  }
 ],
 "metadata": {
  "kernelspec": {
   "display_name": "Python 3.11.1 64-bit",
   "language": "python",
   "name": "python3"
  },
  "language_info": {
   "codemirror_mode": {
    "name": "ipython",
    "version": 3
   },
   "file_extension": ".py",
   "mimetype": "text/x-python",
   "name": "python",
   "nbconvert_exporter": "python",
   "pygments_lexer": "ipython3",
   "version": "3.11.1"
  },
  "orig_nbformat": 4,
  "vscode": {
   "interpreter": {
    "hash": "aee8b7b246df8f9039afb4144a1f6fd8d2ca17a180786b69acc140d282b71a49"
   }
  }
 },
 "nbformat": 4,
 "nbformat_minor": 2
}
