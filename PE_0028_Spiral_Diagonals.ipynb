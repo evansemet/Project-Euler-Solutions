{
 "cells": [
  {
   "cell_type": "markdown",
   "metadata": {},
   "source": [
    "**Spiral Diagonals**\n",
    "\n",
    "**Problem 28**\n",
    "\n",
    "Starting with the number 1 and moving to the right in a clockwise direction a 5 by 5 spiral is formed as follows:\n",
    "\n",
    "21 22 23 24 25\n",
    "\n",
    "20  7  8  9 10\n",
    "\n",
    "19  6  1  2 11\n",
    "\n",
    "18  5  4  3 12\n",
    "\n",
    "17 16 15 14 13\n",
    "\n",
    "It can be verified that the sum of the numbers on the diagonals is 101.\n",
    "\n",
    "What is the sum of the numbers on the diagonals in a 1001 by 1001 spiral formed in the same way?"
   ]
  },
  {
   "cell_type": "code",
   "execution_count": 2,
   "metadata": {},
   "outputs": [
    {
     "data": {
      "text/plain": [
       "669171001"
      ]
     },
     "execution_count": 2,
     "metadata": {},
     "output_type": "execute_result"
    }
   ],
   "source": [
    "(1001 * (1001 * (1001 * 4 + 3) + 8) - 9) // 6"
   ]
  }
 ],
 "metadata": {
  "kernelspec": {
   "display_name": "Python 3.11.1 64-bit",
   "language": "python",
   "name": "python3"
  },
  "language_info": {
   "codemirror_mode": {
    "name": "ipython",
    "version": 3
   },
   "file_extension": ".py",
   "mimetype": "text/x-python",
   "name": "python",
   "nbconvert_exporter": "python",
   "pygments_lexer": "ipython3",
   "version": "3.11.1"
  },
  "orig_nbformat": 4,
  "vscode": {
   "interpreter": {
    "hash": "aee8b7b246df8f9039afb4144a1f6fd8d2ca17a180786b69acc140d282b71a49"
   }
  }
 },
 "nbformat": 4,
 "nbformat_minor": 2
}
