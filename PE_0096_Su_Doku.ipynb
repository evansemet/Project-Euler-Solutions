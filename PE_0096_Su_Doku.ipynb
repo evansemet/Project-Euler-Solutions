{
 "cells": [
  {
   "cell_type": "markdown",
   "metadata": {},
   "source": [
    "<p>Su Doku (Japanese meaning <i>number place</i>) is the name given to a popular puzzle concept. Its origin is unclear, but credit must be attributed to Leonhard Euler who invented a similar, and much more difficult, puzzle idea called Latin Squares. The objective of Su Doku puzzles, however, is to replace the blanks (or zeros) in a 9 by 9 grid in such that each row, column, and 3 by 3 box contains each of the digits 1 to 9. Below is an example of a typical starting puzzle grid and its solution grid.</p>\n",
    "<div class=\"center\">\n",
    "<img src=\"project/images/p096_1.png\" alt=\"p096_1.png\" />     <img src=\"project/images/p096_2.png\" alt=\"p096_2.png\" /></div>\n",
    "<p>A well constructed Su Doku puzzle has a unique solution and can be solved by logic, although it may be necessary to employ \"guess and test\" methods in order to eliminate options (there is much contested opinion over this). The complexity of the search determines the difficulty of the puzzle; the example above is considered <i>easy</i> because it can be solved by straight forward direct deduction.</p>\n",
    "<p>The 6K text file, <a href=\"project/resources/p096_sudoku.txt\">sudoku.txt</a> (right click and 'Save Link/Target As...'), contains fifty different Su Doku puzzles ranging in difficulty, but all with unique solutions (the first puzzle in the file is the example above).</p>\n",
    "<p>By solving all fifty puzzles find the sum of the 3-digit numbers found in the top left corner of each solution grid; for example, 483 is the 3-digit number found in the top left corner of the solution grid above.</p>"
   ]
  },
  {
   "cell_type": "code",
   "execution_count": 102,
   "metadata": {},
   "outputs": [],
   "source": [
    "import numpy as np\n",
    "\n",
    "def isValid(n,r,c,grid):\n",
    "    if n in grid[r]:\n",
    "        return False\n",
    "    if n in [grid[i][c] for i in range(9)]:\n",
    "        return False\n",
    "    row,col = (r//3)*3, (c//3)*3\n",
    "    if n in [grid[i][j] for i in range(row,row+3) for j in range(col,col+3)]:\n",
    "        return False\n",
    "    return True\n",
    "\n",
    "def solve(r,c,grid):\n",
    "    for i in range(r,9):\n",
    "        for j in range(9):\n",
    "            if grid[i][j]==0:\n",
    "                for n in range(1,10):\n",
    "                    if isValid(n,i,j,grid):\n",
    "                        grid[i][j]=n\n",
    "                        x = solve(i,j,grid)\n",
    "                        if x != -1:\n",
    "                            return x\n",
    "                        grid[i][j]=0\n",
    "                return -1\n",
    "    if np.all(grid):\n",
    "        return grid[0][0]*100+grid[0][1]*10+grid[0][2]\n",
    "    return -1\n",
    "                "
   ]
  },
  {
   "cell_type": "code",
   "execution_count": 103,
   "metadata": {},
   "outputs": [],
   "source": [
    "sudokus,sudoku = [],[]\n",
    "\n",
    "with open('p096_sudoku.txt', 'r') as file:\n",
    "    for line in file:\n",
    "        if line.startswith('Grid'):\n",
    "            continue\n",
    "        row = [int(num) for num in line.strip()]\n",
    "        sudoku.append(row)\n",
    "        if len(sudoku) == 9:\n",
    "            sudokus.append(sudoku)\n",
    "            sudoku = []"
   ]
  },
  {
   "cell_type": "code",
   "execution_count": 104,
   "metadata": {},
   "outputs": [
    {
     "data": {
      "text/plain": [
       "24702"
      ]
     },
     "execution_count": 104,
     "metadata": {},
     "output_type": "execute_result"
    }
   ],
   "source": [
    "sum(solve(0,0,sudoku) for sudoku in sudokus)"
   ]
  }
 ],
 "metadata": {
  "kernelspec": {
   "display_name": "Python 3.11.1 64-bit",
   "language": "python",
   "name": "python3"
  },
  "language_info": {
   "codemirror_mode": {
    "name": "ipython",
    "version": 3
   },
   "file_extension": ".py",
   "mimetype": "text/x-python",
   "name": "python",
   "nbconvert_exporter": "python",
   "pygments_lexer": "ipython3",
   "version": "3.11.1"
  },
  "orig_nbformat": 4,
  "vscode": {
   "interpreter": {
    "hash": "aee8b7b246df8f9039afb4144a1f6fd8d2ca17a180786b69acc140d282b71a49"
   }
  }
 },
 "nbformat": 4,
 "nbformat_minor": 2
}
