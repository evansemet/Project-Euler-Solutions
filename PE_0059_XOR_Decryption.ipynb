{
 "cells": [
  {
   "cell_type": "markdown",
   "metadata": {},
   "source": [
    "**XOR Decryption**\n",
    "\n",
    "**Problem 59**\n",
    "\n",
    "Each character on a computer is assigned a unique code and the preferred standard is ASCII (American Standard Code for Information Interchange). For example, uppercase A = 65, asterisk (*) = 42, and lowercase k = 107.\n",
    "\n",
    "A modern encryption method is to take a text file, convert the bytes to ASCII, then XOR each byte with a given value, taken from a secret key. The advantage with the XOR function is that using the same encryption key on the cipher text, restores the plain text; for example, 65 XOR 42 = 107, then 107 XOR 42 = 65.\n",
    "\n",
    "For unbreakable encryption, the key is the same length as the plain text message, and the key is made up of random bytes. The user would keep the encrypted message and the encryption key in different locations, and without both \"halves\", it is impossible to decrypt the message.\n",
    "\n",
    "Unfortunately, this method is impractical for most users, so the modified method is to use a password as a key. If the password is shorter than the message, which is likely, the key is repeated cyclically throughout the message. The balance for this method is using a sufficiently long password key for security, but short enough to be memorable.\n",
    "\n",
    "Your task has been made easy, as the encryption key consists of three lower case characters. Using p059_cipher.txt (right click and 'Save Link/Target As...'), a file containing the encrypted ASCII codes, and the knowledge that the plain text must contain common English words, decrypt the message and find the sum of the ASCII values in the original text."
   ]
  },
  {
   "cell_type": "code",
   "execution_count": 80,
   "metadata": {},
   "outputs": [],
   "source": [
    "with open('p059_cipher.txt', 'r') as file:\n",
    "    contents = file.read()\n",
    "    text = [int(n) for n in contents.split(',')]\n",
    "\n",
    "l1 = [ch for ch in range(97,123)]\n",
    "l2 = [ch for ch in range(97,123)]\n",
    "l3 = [ch for ch in range(97,123)]"
   ]
  },
  {
   "cell_type": "code",
   "execution_count": 81,
   "metadata": {},
   "outputs": [],
   "source": [
    "def isValid(n):\n",
    "    n = chr(n)\n",
    "    return n not in \"~}{<>|\\\\@:\""
   ]
  },
  {
   "cell_type": "code",
   "execution_count": 82,
   "metadata": {},
   "outputs": [
    {
     "data": {
      "text/plain": [
       "129448"
      ]
     },
     "execution_count": 82,
     "metadata": {},
     "output_type": "execute_result"
    }
   ],
   "source": [
    "for idx,num in enumerate(text):\n",
    "    if idx%3==0 and len(l1)>1:\n",
    "        for i,ch in enumerate(l1):\n",
    "            val = num^ch\n",
    "            if not isValid(val):\n",
    "                l1.pop(i)\n",
    "    elif idx%3==1 and len(l2)>1:\n",
    "        for i,ch in enumerate(l2):\n",
    "            val = num^ch\n",
    "            if not isValid(val):\n",
    "                l2.pop(i)\n",
    "    elif idx%3==2 and len(l3)>1:\n",
    "        for i,ch in enumerate(l3):\n",
    "            val = num^ch\n",
    "            if not isValid(val):\n",
    "                l3.pop(i)\n",
    "\n",
    "tot=0\n",
    "for idx,num in enumerate(text):\n",
    "    if idx%3==0: tot += num^l1[0]\n",
    "    elif idx%3==1: tot += num^l2[0]\n",
    "    else: tot += num^l3[0]\n",
    "tot"
   ]
  }
 ],
 "metadata": {
  "kernelspec": {
   "display_name": "Python 3.11.1 64-bit",
   "language": "python",
   "name": "python3"
  },
  "language_info": {
   "codemirror_mode": {
    "name": "ipython",
    "version": 3
   },
   "file_extension": ".py",
   "mimetype": "text/x-python",
   "name": "python",
   "nbconvert_exporter": "python",
   "pygments_lexer": "ipython3",
   "version": "3.11.1"
  },
  "orig_nbformat": 4,
  "vscode": {
   "interpreter": {
    "hash": "aee8b7b246df8f9039afb4144a1f6fd8d2ca17a180786b69acc140d282b71a49"
   }
  }
 },
 "nbformat": 4,
 "nbformat_minor": 2
}
